{
 "cells": [
  {
   "cell_type": "code",
   "execution_count": 1,
   "id": "51c63dac",
   "metadata": {},
   "outputs": [
    {
     "name": "stdout",
     "output_type": "stream",
     "text": [
      "設立別 學校類別     學校名稱\n",
      " 公立 一般大學   國立政治大學\n",
      " 公立 一般大學   國立清華大學\n",
      " 公立 一般大學   國立臺灣大學\n",
      " 公立 一般大學 國立臺灣師範大學\n",
      " 公立 一般大學   國立成功大學\n",
      " 公立 一般大學   國立中興大學\n",
      " 公立 一般大學   國立中正大學\n",
      " 公立 一般大學 國立高雄師範大學\n",
      " 公立 一般大學 國立彰化師範大學\n",
      " 公立 一般大學   國立東華大學\n",
      " 公立 一般大學   國立聯合大學\n",
      " 公立 一般大學 國立臺中教育大學\n",
      " 私立 一般大學     靜宜大學\n",
      " 私立 一般大學     真理大學\n"
     ]
    }
   ],
   "source": [
    "#先在\"大專院校校務資訊公開平台\"中的\"語文 學門\"中的\"臺灣語文細學類\"網頁抓取所有學校資訊，列成表格\n",
    "import requests\n",
    "from tools import get_soup\n",
    "import pandas as pd\n",
    "from bs4 import BeautifulSoup\n",
    "url = \"https://udb.moe.edu.tw/udata/ISCED/%E8%AA%9E%E6%96%87/023/%E8%87%BA%E7%81%A3%E8%AA%9E%E6%96%87/02321\"\n",
    "\n",
    "# 發送HTTP請求\n",
    "response = requests.get(url)\n",
    "\n",
    "# 檢查請求是否成功\n",
    "if response.status_code == 200:\n",
    "    # 使用BeautifulSoup解析HTML\n",
    "    soup = BeautifulSoup(response.text, 'html.parser')\n",
    "\n",
    "    # 找到表格\n",
    "    table = soup.find('table')\n",
    "\n",
    "    # 使用pandas的read_html函數直接讀取表格\n",
    "    df2 = pd.read_html(str(table))[0]\n",
    "\n",
    "    # 保留所需的欄位\n",
    "    df2 = df2[['設立別', '學校類別', '學校名稱']]\n",
    "\n",
    "    # 將資料輸出為表格形式\n",
    "    print(df2.to_string(index=False))\n",
    "else:\n",
    "    print(\"無法取得網頁內容，錯誤碼：\", response.status_code)\n",
    "\n",
    "    \n",
    " # 保存成CSV文件\n",
    "df2.to_csv('臺灣語文細學類學校資訊.csv', index=False, encoding='utf-8-sig')"
   ]
  },
  {
   "cell_type": "code",
   "execution_count": null,
   "id": "414092bb",
   "metadata": {},
   "outputs": [],
   "source": []
  }
 ],
 "metadata": {
  "kernelspec": {
   "display_name": "Python 3 (ipykernel)",
   "language": "python",
   "name": "python3"
  },
  "language_info": {
   "codemirror_mode": {
    "name": "ipython",
    "version": 3
   },
   "file_extension": ".py",
   "mimetype": "text/x-python",
   "name": "python",
   "nbconvert_exporter": "python",
   "pygments_lexer": "ipython3",
   "version": "3.11.4"
  }
 },
 "nbformat": 4,
 "nbformat_minor": 5
}
